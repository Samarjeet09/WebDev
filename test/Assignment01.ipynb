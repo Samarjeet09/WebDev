{
  "cells": [
    {
      "cell_type": "markdown",
      "metadata": {
        "id": "view-in-github",
        "colab_type": "text"
      },
      "source": [
        "<a href=\"https://colab.research.google.com/github/Samarjeet09/WebDev/blob/main/test/Assignment01.ipynb\" target=\"_parent\"><img src=\"https://colab.research.google.com/assets/colab-badge.svg\" alt=\"Open In Colab\"/></a>"
      ]
    },
    {
      "cell_type": "markdown",
      "metadata": {
        "id": "Zj_kmgNKkGuv"
      },
      "source": [
        "Q1. L is a list defined as L= [11, 12, 13, 14]."
      ]
    },
    {
      "cell_type": "code",
      "execution_count": null,
      "metadata": {
        "id": "uR5ybJqckGuz"
      },
      "outputs": [],
      "source": [
        "L = [11,12,13,14]"
      ]
    },
    {
      "cell_type": "markdown",
      "metadata": {
        "id": "w02bFppUkGu3"
      },
      "source": [
        "(i) WAP to add 50 and 60 to L. "
      ]
    },
    {
      "cell_type": "code",
      "execution_count": null,
      "metadata": {
        "id": "2cpWJP6SkGu3",
        "outputId": "b3eb6af5-1756-4863-e418-cf01044f3d91"
      },
      "outputs": [
        {
          "name": "stdout",
          "output_type": "stream",
          "text": [
            "[11, 12, 13, 14, 50, 60]\n"
          ]
        }
      ],
      "source": [
        "L.append(50)\n",
        "L.append(60)\n",
        "print(L)"
      ]
    },
    {
      "cell_type": "markdown",
      "metadata": {
        "id": "8SswmGl-kGu5"
      },
      "source": [
        "(ii) WAP to remove 11 and 13from L."
      ]
    },
    {
      "cell_type": "code",
      "execution_count": null,
      "metadata": {
        "id": "zeSJD85akGu5",
        "outputId": "e96c61a3-5121-4e2d-ab37-0368821a3a08"
      },
      "outputs": [
        {
          "data": {
            "text/plain": [
              "[12, 14, 50, 60]"
            ]
          },
          "execution_count": 40,
          "metadata": {},
          "output_type": "execute_result"
        }
      ],
      "source": [
        "L.remove(11)\n",
        "L.remove(13)\n",
        "L"
      ]
    },
    {
      "cell_type": "markdown",
      "metadata": {
        "id": "QWrA865BkGu6"
      },
      "source": [
        "(iii) WAP to sort L in ascending order."
      ]
    },
    {
      "cell_type": "code",
      "execution_count": null,
      "metadata": {
        "id": "39enTMRNkGu6",
        "outputId": "4f900684-b42d-443b-dee5-4b134f9238fe"
      },
      "outputs": [
        {
          "name": "stdout",
          "output_type": "stream",
          "text": [
            "[12, 14, 50, 60]\n"
          ]
        }
      ],
      "source": [
        "print(sorted(L))"
      ]
    },
    {
      "cell_type": "markdown",
      "metadata": {
        "id": "EZfRZh-1kGu6"
      },
      "source": [
        "(iv) WAP to sort L in descending order."
      ]
    },
    {
      "cell_type": "code",
      "execution_count": null,
      "metadata": {
        "id": "ryel8kaIkGu7",
        "outputId": "eca3a421-2e85-4253-8a8f-d42fc3d94497"
      },
      "outputs": [
        {
          "name": "stdout",
          "output_type": "stream",
          "text": [
            "[60, 50, 14, 12]\n",
            "[60, 50, 14, 12]\n"
          ]
        }
      ],
      "source": [
        "print(sorted(L,reverse=True))\n",
        "print(sorted(L)[::-1])"
      ]
    },
    {
      "cell_type": "markdown",
      "metadata": {
        "id": "OFEGs9jtkGu7"
      },
      "source": [
        "(v) WAP to search for 13 in L"
      ]
    },
    {
      "cell_type": "code",
      "execution_count": null,
      "metadata": {
        "id": "BfWK1mTAkGu7",
        "outputId": "05ebe288-c84c-4b62-b0f9-9f44a7f9ad5f"
      },
      "outputs": [
        {
          "name": "stdout",
          "output_type": "stream",
          "text": [
            "no\n"
          ]
        }
      ],
      "source": [
        "if (13 in L ):\n",
        "    print(\"yes\")\n",
        "else:\n",
        "    print(\"no\")"
      ]
    },
    {
      "cell_type": "markdown",
      "metadata": {
        "id": "RMNvnlYYkGu8"
      },
      "source": [
        "(vi) WAP to count the number of elements present in L."
      ]
    },
    {
      "cell_type": "code",
      "execution_count": null,
      "metadata": {
        "id": "ZQ9eTADrkGu8",
        "outputId": "65a6ce69-fa14-45ff-fa2d-74d797b9b2b4"
      },
      "outputs": [
        {
          "name": "stdout",
          "output_type": "stream",
          "text": [
            "4\n"
          ]
        }
      ],
      "source": [
        "print(len(L))\n"
      ]
    },
    {
      "cell_type": "markdown",
      "metadata": {
        "id": "52HJyr_PkGu8"
      },
      "source": [
        "(vii) WAP to sum all the elements in L."
      ]
    },
    {
      "cell_type": "code",
      "execution_count": null,
      "metadata": {
        "id": "X7n0LM6GkGu8",
        "outputId": "8f4610f2-3a85-4112-e461-9adaff2e33d5"
      },
      "outputs": [
        {
          "name": "stdout",
          "output_type": "stream",
          "text": [
            "136\n"
          ]
        }
      ],
      "source": [
        "print(sum(L))"
      ]
    },
    {
      "cell_type": "markdown",
      "metadata": {
        "id": "n5KBCq68kGu9"
      },
      "source": [
        "(viii) WAP to sum all ODD numbers in L.\n"
      ]
    },
    {
      "cell_type": "code",
      "execution_count": null,
      "metadata": {
        "id": "PRKQSYQgkGu9",
        "outputId": "5f847c54-60c4-4516-f2af-4d35fb8b1d3e"
      },
      "outputs": [
        {
          "name": "stdout",
          "output_type": "stream",
          "text": [
            "0\n"
          ]
        }
      ],
      "source": [
        "\n"
      ]
    },
    {
      "cell_type": "markdown",
      "metadata": {
        "id": "gPN2cXQVkGu9"
      },
      "source": [
        "(ix) WAP to sum all EVEN numbers in L.\n"
      ]
    },
    {
      "cell_type": "code",
      "execution_count": null,
      "metadata": {
        "id": "1wq16VE9kGu9",
        "outputId": "c54be6fe-ad12-4806-a17d-585108f249e2"
      },
      "outputs": [
        {
          "name": "stdout",
          "output_type": "stream",
          "text": [
            "136\n"
          ]
        }
      ],
      "source": [
        "s = 0\n",
        "for item in L :\n",
        "    if item %2 ==0:\n",
        "        s += item \n",
        "    \n",
        "print(s)"
      ]
    },
    {
      "cell_type": "markdown",
      "metadata": {
        "id": "ErTjKdTukGu-"
      },
      "source": [
        "(x) WAP to sum all PRIME numbers in L.\n"
      ]
    },
    {
      "cell_type": "code",
      "execution_count": null,
      "metadata": {
        "id": "lTUfBvhykGu-",
        "outputId": "a05e60ff-2868-406c-a76c-a9e97474d403"
      },
      "outputs": [
        {
          "name": "stdout",
          "output_type": "stream",
          "text": [
            "0\n"
          ]
        }
      ],
      "source": [
        "s=0\n",
        "for i in L:\n",
        "    flag = True\n",
        "    for div in range(2,i//2 +1):\n",
        "        if i%div ==0:\n",
        "            flag = False\n",
        "            break\n",
        "    if flag:\n",
        "        s += i\n",
        "\n",
        "print(s)"
      ]
    },
    {
      "cell_type": "markdown",
      "metadata": {
        "id": "Mcu4p-l-kGu-"
      },
      "source": [
        "(xi) WAP to clear all the elements in L.\n"
      ]
    },
    {
      "cell_type": "code",
      "execution_count": null,
      "metadata": {
        "id": "xIBLvaptkGu-",
        "outputId": "5fb8ee34-7ec5-4910-f8cb-45b172effa75"
      },
      "outputs": [
        {
          "data": {
            "text/plain": [
              "[]"
            ]
          },
          "execution_count": 41,
          "metadata": {},
          "output_type": "execute_result"
        }
      ],
      "source": [
        "L.clear()\n",
        "L"
      ]
    },
    {
      "cell_type": "markdown",
      "metadata": {
        "id": "9vBDb_LykGu_"
      },
      "source": [
        "(xii) WAP to delete L."
      ]
    },
    {
      "cell_type": "code",
      "execution_count": null,
      "metadata": {
        "id": "CYFlXvjYkGu_"
      },
      "outputs": [],
      "source": [
        "del L"
      ]
    },
    {
      "cell_type": "markdown",
      "metadata": {
        "id": "DDO4f9oNkGu_"
      },
      "source": [
        "Q2. D is a dictionary defined as D= {1:5.6, 2:7.8, 3:6.6, 4:8.7, 5:7.7}.\n",
        "1. WAP to add new entry in D; key=8 and value is 8.8\n",
        "2. WAP to remove key=2.\n",
        "3. WAP to check weather 6 key is present in D.\n",
        "4. WAP to count the number of elements present in D.\n",
        "5. WAP to add all the values present D.\n",
        "6. WAP to update the value of 3 to 7.1.\n",
        "7. WAP to clear the dictionary."
      ]
    },
    {
      "cell_type": "code",
      "execution_count": null,
      "metadata": {
        "id": "dwWZ7NOzkGu_"
      },
      "outputs": [],
      "source": [
        "D= {1:5.6, 2:7.8, 3:6.6, 4:8.7, 5:7.7}"
      ]
    },
    {
      "cell_type": "code",
      "execution_count": null,
      "metadata": {
        "id": "9vtGWPkakGu_",
        "outputId": "ff8608f4-2218-4de0-e583-dc68ee09d3dc"
      },
      "outputs": [
        {
          "data": {
            "text/plain": [
              "{1: 5.6, 2: 7.8, 3: 6.6, 4: 8.7, 5: 7.7, 8: 8.8}"
            ]
          },
          "execution_count": 21,
          "metadata": {},
          "output_type": "execute_result"
        }
      ],
      "source": [
        "D[8]= 8.8\n",
        "D"
      ]
    },
    {
      "cell_type": "code",
      "execution_count": null,
      "metadata": {
        "id": "Y-srIfhIkGu_",
        "outputId": "dc967715-c11b-4e14-d787-fc700d7543fd"
      },
      "outputs": [
        {
          "data": {
            "text/plain": [
              "{1: 5.6, 3: 6.6, 4: 8.7, 5: 7.7, 8: 8.8}"
            ]
          },
          "execution_count": 22,
          "metadata": {},
          "output_type": "execute_result"
        }
      ],
      "source": [
        "D.pop(2)\n",
        "D"
      ]
    },
    {
      "cell_type": "code",
      "execution_count": null,
      "metadata": {
        "id": "aGkl2X_bkGvA",
        "outputId": "f3a0982f-7975-4dcd-d93a-79ebd0560340"
      },
      "outputs": [
        {
          "name": "stdout",
          "output_type": "stream",
          "text": [
            "n\n"
          ]
        }
      ],
      "source": [
        "if 6 in D:\n",
        "    print(\"y\")\n",
        "else:\n",
        "    print('n')"
      ]
    },
    {
      "cell_type": "code",
      "execution_count": null,
      "metadata": {
        "id": "cazocS0SkGvA",
        "outputId": "62b7ebad-3fbe-48cc-f59d-e7afd6909f25"
      },
      "outputs": [
        {
          "name": "stdout",
          "output_type": "stream",
          "text": [
            "5\n"
          ]
        }
      ],
      "source": [
        "print(len(D))"
      ]
    },
    {
      "cell_type": "code",
      "execution_count": null,
      "metadata": {
        "id": "E-6RNmmikGvA",
        "outputId": "0ebacb7d-5837-4cee-9995-8e5b0467e503"
      },
      "outputs": [
        {
          "name": "stdout",
          "output_type": "stream",
          "text": [
            "Sum of keys : 21\n",
            "Sum of Vals : 37.4\n"
          ]
        }
      ],
      "source": [
        "print('Sum of keys :',sum(list(D.keys())))\n",
        "print('Sum of Vals :',sum(list(D.values())))"
      ]
    },
    {
      "cell_type": "code",
      "execution_count": null,
      "metadata": {
        "id": "Gg-Ui3crkGvA",
        "outputId": "1ec471de-5829-4bd1-b830-431e331d9d21"
      },
      "outputs": [
        {
          "data": {
            "text/plain": [
              "{1: 5.6, 3: 7.1, 4: 8.7, 5: 7.7, 8: 8.8}"
            ]
          },
          "execution_count": 26,
          "metadata": {},
          "output_type": "execute_result"
        }
      ],
      "source": [
        "D[3]=7.1\n",
        "D"
      ]
    },
    {
      "cell_type": "code",
      "execution_count": null,
      "metadata": {
        "id": "z6P-2je0kGvA",
        "outputId": "09f8ff3d-feef-4c70-90a3-3cf5eaec0d42"
      },
      "outputs": [
        {
          "data": {
            "text/plain": [
              "{}"
            ]
          },
          "execution_count": 28,
          "metadata": {},
          "output_type": "execute_result"
        }
      ],
      "source": [
        "D.clear()\n",
        "D"
      ]
    },
    {
      "cell_type": "markdown",
      "metadata": {
        "id": "Vfho6h8nkGvB"
      },
      "source": [
        "Q3. S1 is a set defined as S1= [10, 20, 30, 40, 50, 60].\n",
        " S2 is a set defined as S2= [40, 50, 60, 70, 80, 90].\n",
        "1. WAP to add 55 and 66 in Set S1.\n",
        "2. WAP to remove 10 and 30 from Set S1.\n",
        "3. WAP to check whether 40 is present in S1.\n",
        "4. WAP to find the union between S1 and S2.\n",
        "5. WAP to find the intersection between S1 and S2.\n",
        "6. WAP to find the S1 - S2.\n"
      ]
    },
    {
      "cell_type": "code",
      "execution_count": null,
      "metadata": {
        "id": "0dqVFELdkGvB"
      },
      "outputs": [],
      "source": [
        "S1= {10, 20, 30, 40, 50, 60}\n",
        "S2= {40, 50, 60, 70, 80, 90}"
      ]
    },
    {
      "cell_type": "code",
      "execution_count": null,
      "metadata": {
        "id": "e7TvnOxbkGvB",
        "outputId": "c3586b9f-8d88-4ee5-f970-b1b7f8e8875a"
      },
      "outputs": [
        {
          "data": {
            "text/plain": [
              "{10, 20, 30, 40, 50, 55, 60, 66}"
            ]
          },
          "execution_count": 30,
          "metadata": {},
          "output_type": "execute_result"
        }
      ],
      "source": [
        "S1.add(55)\n",
        "S1.add(66)\n",
        "S1"
      ]
    },
    {
      "cell_type": "code",
      "execution_count": null,
      "metadata": {
        "id": "nQPZwkyskGvB",
        "outputId": "6faca41d-f8c8-4e18-d916-3e22f2a57e72"
      },
      "outputs": [
        {
          "data": {
            "text/plain": [
              "{20, 40, 50, 55, 60, 66}"
            ]
          },
          "execution_count": 31,
          "metadata": {},
          "output_type": "execute_result"
        }
      ],
      "source": [
        "S1.remove(10)\n",
        "S1.remove(30)\n",
        "S1"
      ]
    },
    {
      "cell_type": "code",
      "execution_count": null,
      "metadata": {
        "id": "ClF9jTDFkGvC",
        "outputId": "b126f63d-5ddf-4f88-d433-a8068ef828c6"
      },
      "outputs": [
        {
          "name": "stdout",
          "output_type": "stream",
          "text": [
            "Y\n"
          ]
        }
      ],
      "source": [
        "if 40 in S1 :\n",
        "    print('Y')"
      ]
    },
    {
      "cell_type": "code",
      "execution_count": null,
      "metadata": {
        "id": "_FflZ0YpkGvC",
        "outputId": "a0300ae4-6092-49c0-a63e-8c5382aca670"
      },
      "outputs": [
        {
          "name": "stdout",
          "output_type": "stream",
          "text": [
            "{66, 70, 40, 80, 50, 20, 55, 90, 60}\n",
            "{40, 50, 60}\n",
            "{66, 20, 55}\n"
          ]
        }
      ],
      "source": [
        "print(S1.union(S2))\n",
        "print(S1.intersection(S2))\n",
        "print(S1-S2)"
      ]
    },
    {
      "cell_type": "markdown",
      "metadata": {
        "id": "KzAL86fwkGvC"
      },
      "source": [
        "Q4. Write the following program.\n",
        "1. WAP to print 100 random strings whose length between 6 and 8.\n",
        "2. WAP to print all prime numbers between 600 and 800.\n",
        "3. WAP to print all numbers between 100 and 1000 that are divisible by 7 and 9"
      ]
    },
    {
      "cell_type": "code",
      "execution_count": null,
      "metadata": {
        "id": "4sGC3hhmkGvC",
        "outputId": "0379d9ad-fda3-4f16-f16b-e40daacce867"
      },
      "outputs": [
        {
          "name": "stdout",
          "output_type": "stream",
          "text": [
            "abcdefghijklmnopqrstuvwxyzABCDEFGHIJKLMNOPQRSTUVWXYZ\n"
          ]
        }
      ],
      "source": [
        "import random as r \n",
        "import string as s\n",
        "letters = s.ascii_letters\n",
        "print(letters)"
      ]
    },
    {
      "cell_type": "code",
      "execution_count": null,
      "metadata": {
        "id": "5QqN5I1bkGvD",
        "outputId": "cc8ccc76-4f32-44a7-a67e-6ac75dcd147e"
      },
      "outputs": [
        {
          "name": "stdout",
          "output_type": "stream",
          "text": [
            "OBfpHzuv\n",
            "LEiAaXGc\n",
            "uQKaCfAx\n",
            "qsKZNC\n",
            "mIsQFJ\n",
            "SGIXCqgN\n",
            "IcJLyAT\n",
            "yvZiIJ\n",
            "UsBxDfy\n",
            "BTzngEu\n",
            "oWMpDO\n",
            "bADMTB\n",
            "ZeThiHqc\n",
            "nHqvFfN\n",
            "lYQcjoW\n",
            "asvPGyVR\n",
            "kytxYAUP\n",
            "lyMROhA\n",
            "sLbTXk\n",
            "LymxKN\n",
            "NVtYqFLj\n",
            "LHjBOVTW\n",
            "GKAlzY\n",
            "ETAIcgv\n",
            "RnNePiM\n",
            "LuPXeK\n",
            "QOMaeAdU\n",
            "LAcswzo\n",
            "SawVoGO\n",
            "vbaQrpx\n",
            "VzHmhZc\n",
            "WqxLIREQ\n",
            "ypIouhd\n",
            "ionEZIH\n",
            "rVjWJOh\n",
            "IQPWOaF\n",
            "PFxUnR\n",
            "MyQiGaTp\n",
            "JemqTNz\n",
            "FHtXNnC\n",
            "VhlkTtp\n",
            "WvpCOgmU\n",
            "eqYzhtd\n",
            "yvlYdTu\n",
            "fwXuRZ\n",
            "LUXlSE\n",
            "VbpYQE\n",
            "vMClhGX\n",
            "oudKgFr\n",
            "ArCBdsm\n",
            "TrIcAgYe\n",
            "CkOdDIu\n",
            "hqIXxF\n",
            "uftTnsxB\n",
            "UpLhYSf\n",
            "WasUyoZF\n",
            "FZcBTd\n",
            "LGKamjs\n",
            "vNQxObMX\n",
            "mbNjJYF\n",
            "DMzqwNr\n",
            "yBqrTSh\n",
            "YOiwbuM\n",
            "oubzinNJ\n",
            "RrfKpatz\n",
            "swbZzYCL\n",
            "niWSoCp\n",
            "AvTfoWk\n",
            "UGyDwL\n",
            "cNXBwFn\n",
            "kjbqtIn\n",
            "uLmWrzIf\n",
            "hEuyXWA\n",
            "sSCnjQ\n",
            "WJpOTFAo\n",
            "BDAEUHMl\n",
            "wqRhdzZm\n",
            "xdheaB\n",
            "zkcYDA\n",
            "NyKVqRE\n",
            "MPaDCVZ\n",
            "HcOTDKa\n",
            "VcfjUKP\n",
            "oTuyBHd\n",
            "AJvedfK\n",
            "MxgrqTXz\n",
            "sDQAaj\n",
            "mwjLNV\n",
            "zLDtfsT\n",
            "gHsYPX\n",
            "gXABWs\n",
            "gwIjDtB\n",
            "fvQNpFcG\n",
            "VUbFhu\n",
            "yAcZOmCU\n",
            "jEwIMU\n",
            "LtkgEvwB\n",
            "tToAqRK\n",
            "MSWYUplc\n",
            "bxTBgLp\n"
          ]
        }
      ],
      "source": [
        "for i in range(100):\n",
        "    size = r.randint(6,8)\n",
        "    sam = r.sample(letters,size)\n",
        "    rstr = ''.join(sam)\n",
        "    \n"
      ]
    },
    {
      "cell_type": "code",
      "execution_count": null,
      "metadata": {
        "id": "YkZseWavkGvD",
        "outputId": "b9165066-72ec-4c12-aae5-4c7c3e44e621"
      },
      "outputs": [
        {
          "name": "stdout",
          "output_type": "stream",
          "text": [
            "601\n",
            "607\n",
            "613\n",
            "617\n",
            "619\n",
            "631\n",
            "641\n",
            "643\n",
            "647\n",
            "653\n",
            "659\n",
            "661\n",
            "673\n",
            "677\n",
            "683\n",
            "691\n",
            "701\n",
            "709\n",
            "719\n",
            "727\n",
            "733\n",
            "739\n",
            "743\n",
            "751\n",
            "757\n",
            "761\n",
            "769\n",
            "773\n",
            "787\n",
            "797\n"
          ]
        }
      ],
      "source": [
        "for i in range(600,801):\n",
        "    # although 800 is also not prime but ok \n",
        "    f = True\n",
        "    for div in range(2,i//2+1):\n",
        "        if i % div == 0:\n",
        "            f = False\n",
        "            break\n",
        "    if f :\n",
        "        print(i)"
      ]
    },
    {
      "cell_type": "code",
      "execution_count": null,
      "metadata": {
        "id": "2Ah6KZa_kGvD",
        "outputId": "f37e3e13-1496-4d85-e4c6-eb56f128dd0e"
      },
      "outputs": [
        {
          "name": "stdout",
          "output_type": "stream",
          "text": [
            "126\n",
            "189\n",
            "252\n",
            "315\n",
            "378\n",
            "441\n",
            "504\n",
            "567\n",
            "630\n",
            "693\n",
            "756\n",
            "819\n",
            "882\n",
            "945\n"
          ]
        }
      ],
      "source": [
        "for i in range(100,1001):\n",
        "    if i% 7 ==0 and i % 9 ==0:\n",
        "        print(i)\n"
      ]
    },
    {
      "cell_type": "markdown",
      "metadata": {
        "id": "sxw4U1czkGvD"
      },
      "source": [
        "Q5. WAP to create two lists of 10 random numbers between 10 and 30; Find \n",
        "1. Common numbers in the two lists\n",
        "2. Unique numbers in both the list\n",
        "3. Minimum in both the list\n",
        "4. Maximum in both the list\n",
        "5. Sum of both the lists"
      ]
    },
    {
      "cell_type": "code",
      "execution_count": null,
      "metadata": {
        "id": "KweKiT5qkGvD",
        "outputId": "e0630839-dc00-4ee0-c186-273be3e19e22"
      },
      "outputs": [
        {
          "name": "stdout",
          "output_type": "stream",
          "text": [
            "[17, 28, 12, 16, 15, 30, 18, 14, 25, 26]\n",
            "[13, 20, 14, 19, 17, 22, 21, 29, 24, 10]\n"
          ]
        }
      ],
      "source": [
        "l1 = r.sample(range(10,31),10)\n",
        "l2 = r.sample(range(10,31),10)\n",
        "print(l1)\n",
        "print(l2)\n"
      ]
    },
    {
      "cell_type": "code",
      "execution_count": null,
      "metadata": {
        "id": "_S4epHEFkGvE",
        "outputId": "cb3ed0eb-7046-433d-eaa8-700394a2470a"
      },
      "outputs": [
        {
          "name": "stdout",
          "output_type": "stream",
          "text": [
            "common {17, 14}\n",
            "Unique {10, 12, 13, 15, 16, 18, 19, 20, 21, 22, 24, 25, 26, 28, 29, 30}\n",
            "12\n",
            "30\n",
            "402\n"
          ]
        }
      ],
      "source": [
        "print(\"common\",set(l1).intersection(set(l2)))\n",
        "print('Unique',set(l1).symmetric_difference(set(l2)))\n",
        "print(min(l1+l1))\n",
        "print(max(l1+l1))\n",
        "print(sum(l1+l1))\n"
      ]
    },
    {
      "cell_type": "markdown",
      "metadata": {
        "id": "_J9dVkVYkGvE"
      },
      "source": [
        "Q6. WAP to create a list of 100 random numbers between 100 and 900. Count and print the: \n",
        "1. All odd numbers\n",
        "2. All even numbers\n",
        "3. All prime numbers\n"
      ]
    },
    {
      "cell_type": "code",
      "execution_count": null,
      "metadata": {
        "id": "U1WRDfgykGvE",
        "outputId": "8171e965-3b95-4dce-faa1-b186de5d66ba"
      },
      "outputs": [
        {
          "name": "stdout",
          "output_type": "stream",
          "text": [
            "Even 54 [706, 594, 366, 228, 860, 194, 434, 472, 338, 896, 538, 730, 498, 210, 678, 208, 604, 520, 672, 804, 496, 202, 110, 692, 470, 524, 552, 602, 626, 718, 304, 646, 648, 418, 772, 874, 858, 106, 168, 786, 492, 468, 360, 810, 822, 694, 664, 880, 560, 288, 658, 788, 868, 562]\n",
            "Odd 46 [329, 687, 833, 609, 861, 607, 511, 601, 721, 587, 317, 383, 831, 275, 771, 493, 821, 153, 157, 127, 781, 633, 349, 445, 711, 589, 461, 621, 537, 817, 491, 387, 373, 143, 331, 757, 281, 737, 121, 367, 623, 561, 467, 209, 655, 553]\n",
            "Prime 17 [607, 601, 587, 317, 383, 821, 157, 127, 349, 461, 491, 373, 331, 757, 281, 367, 467]\n"
          ]
        }
      ],
      "source": [
        "sampleList = r.sample(range(100,901),100)\n",
        "evenL ,oddL,primeL =[],[],[]\n",
        "for num in sampleList:\n",
        "    if num % 2 == 0 :\n",
        "        evenL.append(num)\n",
        "    else:\n",
        "        oddL.append(num)\n",
        "        f = 1\n",
        "        for divs in range(2,num //2 +1 ):\n",
        "            if num % divs == 0:\n",
        "                f = 0\n",
        "                break\n",
        "        if f :\n",
        "            primeL.append(num)\n",
        "\n",
        "print(\"Even\", len(evenL),evenL)\n",
        "print(\"Odd\", len(oddL),oddL)\n",
        "print(\"Prime\", len(primeL),primeL)"
      ]
    },
    {
      "cell_type": "markdown",
      "metadata": {
        "id": "j7dtdq6-kGvF"
      },
      "source": [
        "Q7. D is a dictionary defined as D={1:\"One\",2:\"Two\",3:\"Three\",4:\"Four\", 5:\"Five\"}. \n",
        " WAP to read all the keys and values from dictionary and write to the file in the given below format.\n",
        "* Key1, Value1 \n",
        "* Key2, Value2\n",
        "* Key3, Value3\n"
      ]
    },
    {
      "cell_type": "code",
      "execution_count": null,
      "metadata": {
        "id": "z70IOr_MkGvF",
        "outputId": "93728c09-4dc0-4415-8018-f630ed6393b7"
      },
      "outputs": [
        {
          "name": "stdout",
          "output_type": "stream",
          "text": [
            "1,One\n",
            "2,Two\n",
            "3,Three\n",
            "4,Four\n",
            "5,Five\n",
            "\n"
          ]
        }
      ],
      "source": [
        "D={1:\"One\",2:\"Two\",3:\"Three\",4:\"Four\", 5:\"Five\"}\n",
        "s = ''''''\n",
        "for i in D:\n",
        "    s+= \"%d,%s\\n\"%(i,D[i])\n",
        "print(s)\n"
      ]
    }
  ],
  "metadata": {
    "kernelspec": {
      "display_name": "test",
      "language": "python",
      "name": "python3"
    },
    "language_info": {
      "codemirror_mode": {
        "name": "ipython",
        "version": 3
      },
      "file_extension": ".py",
      "mimetype": "text/x-python",
      "name": "python",
      "nbconvert_exporter": "python",
      "pygments_lexer": "ipython3",
      "version": "3.10.11"
    },
    "orig_nbformat": 4,
    "colab": {
      "provenance": [],
      "include_colab_link": true
    }
  },
  "nbformat": 4,
  "nbformat_minor": 0
}